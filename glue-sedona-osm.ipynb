{
	"metadata": {
		"kernelspec": {
			"name": "glue_pyspark",
			"display_name": "Glue PySpark",
			"language": "python"
		},
		"language_info": {
			"name": "Python_Glue_Session",
			"mimetype": "text/x-python",
			"codemirror_mode": {
				"name": "python",
				"version": 3
			},
			"pygments_lexer": "python3",
			"file_extension": ".py"
		}
	},
	"nbformat_minor": 4,
	"nbformat": 4,
	"cells": [
		{
			"cell_type": "code",
			"source": "%stop_session\n%number_of_workers 20\n%worker_type G.2X",
			"metadata": {
				"trusted": true,
				"editable": true
			},
			"execution_count": 27,
			"outputs": [
				{
					"name": "stdout",
					"text": "There is no current session.\nPrevious number of workers: 20\nSetting new number of workers to: 20\nPrevious worker type: G.2X\nSetting new worker type to: G.2X\n",
					"output_type": "stream"
				}
			]
		},
		{
			"cell_type": "code",
			"source": "!mkdir -p /tmp/sedona\n!curl -o /tmp/sedona/sedona-spark-shaded-3.0_2.12-1.5.1.jar \"https://repo1.maven.org/maven2/org/apache/sedona/sedona-spark-shaded-3.0_2.12/1.5.1/sedona-spark-shaded-3.0_2.12-1.5.1.jar\"\n!curl -o /tmp/sedona/geotools-wrapper-1.5.1-28.2.jar \"https://repo1.maven.org/maven2/org/datasyslab/geotools-wrapper/1.5.1-28.2/geotools-wrapper-1.5.1-28.2.jar\"\n!aws s3 sync /tmp/sedona/ s3://sftp-pipeline-bucket/sedona/libs/",
			"metadata": {
				"trusted": true,
				"tags": []
			},
			"execution_count": 9,
			"outputs": [
				{
					"name": "stdout",
					"text": "  % Total    % Received % Xferd  Average Speed   Time    Time     Time  Current\n                                 Dload  Upload   Total   Spent    Left  Speed\n100 20.7M  100 20.7M    0     0   283M      0 --:--:-- --:--:-- --:--:--  284M\n  % Total    % Received % Xferd  Average Speed   Time    Time     Time  Current\n                                 Dload  Upload   Total   Spent    Left  Speed\n100 28.8M  100 28.8M    0     0   231M      0 --:--:-- --:--:-- --:--:--  230M\nupload: sedona/geotools-wrapper-1.5.1-28.2.jar to s3://sftp-pipeline-bucket/sedona/libs/geotools-wrapper-1.5.1-28.2.jar\nupload: sedona/sedona-spark-shaded-3.0_2.12-1.5.1.jar to s3://sftp-pipeline-bucket/sedona/libs/sedona-spark-shaded-3.0_2.12-1.5.1.jar\n",
					"output_type": "stream"
				}
			]
		},
		{
			"cell_type": "code",
			"source": "%additional_python_modules pandas==1.3.5,shapely==1.8.5,geopandas==0.11.1,keplergl==0.3.2,pydeck==0.8.0,attrs,matplotlib,descartes,apache-sedona==1.5.1\n%extra_jars s3://sftp-pipeline-bucket/sedona/libs/sedona-spark-shaded-3.0_2.12-1.5.1.jar,s3://sftp-pipeline-bucket/sedona/libs/geotools-wrapper-1.5.1-28.2.jar",
			"metadata": {
				"trusted": true,
				"tags": []
			},
			"execution_count": 12,
			"outputs": [
				{
					"name": "stdout",
					"text": "Additional python modules to be included:\npandas==1.3.5\nshapely==1.8.5\ngeopandas==0.11.1\nkeplergl==0.3.2\npydeck==0.8.0\nattrs\nmatplotlib\ndescartes\napache-sedona==1.5.1\nExtra jars to be included:\ns3://sftp-pipeline-bucket/sedona/libs/sedona-spark-shaded-3.0_2.12-1.5.1.jar\ns3://sftp-pipeline-bucket/sedona/libs/geotools-wrapper-1.5.1-28.2.jar\ns3://sftp-pipeline-bucket/sedona/libs/sedona-spark-shaded-3.0_2.12-1.5.1.jar,s3://sftp-pipeline-bucket/sedona/libs/geotools-wrapper-1.5.1-28.2.jar\n",
					"output_type": "stream"
				}
			]
		},
		{
			"cell_type": "code",
			"source": "%%configure\n{\n    \"--conf\": \"spark.serializer=org.apache.spark.serializer.KryoSerializer --conf spark.kryo.registrator=org.apache.sedona.core.serde.SedonaKryoRegistrator --conf spark.sql.extensions=org.apache.sedona.viz.sql.SedonaVizExtensions,org.apache.sedona.sql.SedonaSqlExtensions\"\n}",
			"metadata": {
				"trusted": true,
				"tags": []
			},
			"execution_count": 14,
			"outputs": [
				{
					"name": "stdout",
					"text": "The following configurations have been updated: {'--conf': 'spark.serializer=org.apache.spark.serializer.KryoSerializer --conf spark.kryo.registrator=org.apache.sedona.core.serde.SedonaKryoRegistrator --conf spark.sql.extensions=org.apache.sedona.viz.sql.SedonaVizExtensions,org.apache.sedona.sql.SedonaSqlExtensions'}\n",
					"output_type": "stream"
				}
			]
		},
		{
			"cell_type": "code",
			"source": "from sedona.spark import *\nfrom pyspark.sql.functions import *\n\nconfig = SedonaContext.builder().getOrCreate()\nsedona = SedonaContext.create(config)",
			"metadata": {
				"trusted": true,
				"tags": []
			},
			"execution_count": 1,
			"outputs": [
				{
					"name": "stdout",
					"text": "Trying to create a Glue session for the kernel.\nSession Type: glueetl\nWorker Type: G.2X\nNumber of Workers: 20\nSession ID: 85da4cb7-8e3c-44a6-9861-7cad402241e1\nApplying the following default arguments:\n--glue_kernel_version 1.0.2\n--enable-glue-datacatalog true\n--conf spark.serializer=org.apache.spark.serializer.KryoSerializer --conf spark.kryo.registrator=org.apache.sedona.core.serde.SedonaKryoRegistrator --conf spark.sql.extensions=org.apache.sedona.viz.sql.SedonaVizExtensions,org.apache.sedona.sql.SedonaSqlExtensions\n--extra-jars s3://sftp-pipeline-bucket/sedona/libs/sedona-spark-shaded-3.0_2.12-1.5.1.jar,s3://sftp-pipeline-bucket/sedona/libs/geotools-wrapper-1.5.1-28.2.jar\n--additional-python-modules pandas==1.3.5,shapely==1.8.5,geopandas==0.11.1,keplergl==0.3.2,pydeck==0.8.0,attrs,matplotlib,descartes,apache-sedona==1.5.1\nWaiting for session 85da4cb7-8e3c-44a6-9861-7cad402241e1 to get into ready status...\nSession 85da4cb7-8e3c-44a6-9861-7cad402241e1 has been created.\n\n",
					"output_type": "stream"
				}
			]
		},
		{
			"cell_type": "code",
			"source": "osm = sedona.read.orc(\"s3://osm-pds/planet/planet-latest.orc\")\nosm.printSchema()",
			"metadata": {
				"trusted": true,
				"tags": []
			},
			"execution_count": 2,
			"outputs": [
				{
					"name": "stdout",
					"text": "root\n |-- id: long (nullable = true)\n |-- type: string (nullable = true)\n |-- tags: map (nullable = true)\n |    |-- key: string\n |    |-- value: string (valueContainsNull = true)\n |-- lat: decimal(9,7) (nullable = true)\n |-- lon: decimal(10,7) (nullable = true)\n |-- nds: array (nullable = true)\n |    |-- element: struct (containsNull = true)\n |    |    |-- ref: long (nullable = true)\n |-- members: array (nullable = true)\n |    |-- element: struct (containsNull = true)\n |    |    |-- type: string (nullable = true)\n |    |    |-- ref: long (nullable = true)\n |    |    |-- role: string (nullable = true)\n |-- changeset: long (nullable = true)\n |-- timestamp: timestamp (nullable = true)\n |-- uid: long (nullable = true)\n |-- user: string (nullable = true)\n |-- version: long (nullable = true)\n |-- visible: boolean (nullable = true)\n",
					"output_type": "stream"
				}
			]
		},
		{
			"cell_type": "code",
			"source": "nodes = osm.where(\"type == 'node' and lon between -122.45 and -122.25 and lat between 47.5 and 47.7\") \\\n    .withColumn(\"geom\", expr(\"st_makepoint(lon, lat)\")) \\\n    .selectExpr(\"id as node_id\", \"geom\")\nnodes.show()",
			"metadata": {
				"trusted": true,
				"tags": []
			},
			"execution_count": 3,
			"outputs": [
				{
					"name": "stdout",
					"text": "+--------+--------------------+\n| node_id|                geom|\n+--------+--------------------+\n|29445653|POINT (-122.31968...|\n|29445655|POINT (-122.32113...|\n|29445656|POINT (-122.32184...|\n|29445657|POINT (-122.32204...|\n|29445659|POINT (-122.32218...|\n|29445660|POINT (-122.32232...|\n|29445661|POINT (-122.32236...|\n|29445662|POINT (-122.32250...|\n|29445663|POINT (-122.32263...|\n|29447666|POINT (-122.30465...|\n|29447667|POINT (-122.30523...|\n|29447668|POINT (-122.30622...|\n|29447670|POINT (-122.30891...|\n|29449048|POINT (-122.27805...|\n|29449050|POINT (-122.27946...|\n|29449412|POINT (-122.31663...|\n|29449415|POINT (-122.31409...|\n|29449419|POINT (-122.31050...|\n|29449421|POINT (-122.30915...|\n|29449422|POINT (-122.30804...|\n+--------+--------------------+\nonly showing top 20 rows\n",
					"output_type": "stream"
				}
			]
		},
		{
			"cell_type": "code",
			"source": "ways = osm.where(\"type = 'way' and tags.highway is not null\") \\\n    .selectExpr(\"id as way_id\", \"tags as way_tags\", \"posexplode(nds.ref) as (idx, node_id)\")\nways.show()",
			"metadata": {
				"trusted": true,
				"tags": []
			},
			"execution_count": 4,
			"outputs": [
				{
					"name": "stdout",
					"text": "+------+--------------------+---+----------+\n|way_id|            way_tags|idx|   node_id|\n+------+--------------------+---+----------+\n|    37|{abutters -> resi...|  0|    200511|\n|    37|{abutters -> resi...|  1|1025338193|\n|    37|{abutters -> resi...|  2| 177231081|\n|    37|{abutters -> resi...|  3| 177081428|\n|    37|{abutters -> resi...|  4|1025338209|\n|    37|{abutters -> resi...|  5| 177081440|\n|    37|{abutters -> resi...|  6|    200512|\n|    37|{abutters -> resi...|  7|1025338201|\n|    37|{abutters -> resi...|  8|    200514|\n|    37|{abutters -> resi...|  9|1025338210|\n|    37|{abutters -> resi...| 10|    200517|\n|    37|{abutters -> resi...| 11|1025338191|\n|    37|{abutters -> resi...| 12|    200515|\n|    37|{abutters -> resi...| 13|    200526|\n|    37|{abutters -> resi...| 14|    200527|\n|    37|{abutters -> resi...| 15|    200528|\n|    37|{abutters -> resi...| 16|    200530|\n|    37|{abutters -> resi...| 17|1082909509|\n|    37|{abutters -> resi...| 18|1082909488|\n|    37|{abutters -> resi...| 19|    200532|\n+------+--------------------+---+----------+\nonly showing top 20 rows\n",
					"output_type": "stream"
				}
			]
		},
		{
			"cell_type": "code",
			"source": "lines = ways.join(nodes, \"node_id\") \\\n    .groupBy(\"way_id\") \\\n    .agg(first(\"way_tags\").alias(\"way_tags\"), \n         transform(array_sort(collect_list(struct(\"idx\", \"geom\"))), \n                   lambda elem, _: elem.getField(\"geom\")).alias(\"geoms\")\n        ) \\\n    .where(size(\"geoms\") >= 2) \\\n    .selectExpr(\"way_id\", \"way_tags\", \"st_makeline(geoms) as geom\")\nlines.show()",
			"metadata": {
				"trusted": true,
				"tags": []
			},
			"execution_count": 5,
			"outputs": [
				{
					"name": "stdout",
					"text": "+-------+--------------------+--------------------+\n| way_id|            way_tags|                geom|\n+-------+--------------------+--------------------+\n|4744038|{bicycle -> no, b...|LINESTRING (-122....|\n|4864595|{access:lanes -> ...|LINESTRING (-122....|\n|6345429|{highway -> resid...|LINESTRING (-122....|\n|6348165|{cycleway:both ->...|LINESTRING (-122....|\n|6358495|{highway -> resid...|LINESTRING (-122....|\n|6361213|{bicycle -> desig...|LINESTRING (-122....|\n|6373440|{access -> privat...|LINESTRING (-122....|\n|6376887|{cycleway:both ->...|LINESTRING (-122....|\n|6385862|{highway -> resid...|LINESTRING (-122....|\n|6399189|{access -> privat...|LINESTRING (-122....|\n|6403886|{highway -> resid...|LINESTRING (-122....|\n|6415467|{highway -> resid...|LINESTRING (-122....|\n|6417121|{highway -> servi...|LINESTRING (-122....|\n|6425168|{highway -> resid...|LINESTRING (-122....|\n|6435557|{highway -> resid...|LINESTRING (-122....|\n|6440660|{highway -> resid...|LINESTRING (-122....|\n|6443184|{highway -> resid...|LINESTRING (-122....|\n|6448661|{highway -> resid...|LINESTRING (-122....|\n|6450068|{abandoned:railwa...|LINESTRING (-122....|\n|6457259|{highway -> resid...|LINESTRING (-122....|\n+-------+--------------------+--------------------+\nonly showing top 20 rows\n",
					"output_type": "stream"
				}
			]
		},
		{
			"cell_type": "code",
			"source": "%stop_session",
			"metadata": {
				"trusted": true,
				"tags": []
			},
			"execution_count": 16,
			"outputs": [
				{
					"name": "stdout",
					"text": "Stopping session: 85da4cb7-8e3c-44a6-9861-7cad402241e1\nStopped session.\n",
					"output_type": "stream"
				}
			]
		},
		{
			"cell_type": "code",
			"source": "",
			"metadata": {},
			"execution_count": null,
			"outputs": []
		}
	]
}